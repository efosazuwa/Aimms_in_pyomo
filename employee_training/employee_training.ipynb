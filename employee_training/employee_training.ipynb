{
 "metadata": {
  "name": "",
  "signature": "sha256:a71fdef9e2152197122539b75c4a59b13f670d9cb458d6c52ec000c03f1cfbe6"
 },
 "nbformat": 3,
 "nbformat_minor": 0,
 "worksheets": []
}